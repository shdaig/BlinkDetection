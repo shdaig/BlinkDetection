{
 "cells": [
  {
   "cell_type": "code",
   "execution_count": null,
   "id": "a0891235-c810-41e4-9df5-b7587ae498ac",
   "metadata": {},
   "outputs": [],
   "source": [
    "import moviepy.editor as mp"
   ]
  },
  {
   "cell_type": "code",
   "execution_count": null,
   "id": "3eb8f69c-f0fe-48a9-b07d-b3b310f03cc9",
   "metadata": {
    "scrolled": true,
    "tags": []
   },
   "outputs": [],
   "source": [
    "clip = mp.VideoFileClip(\"../data/cam1.20230911T145010337317.avi\")\n",
    "clip = clip.subclip(0, 60)\n",
    "\n",
    "clip_resized = clip.resize(height=360)\n",
    "\n",
    "clip_resized.write_videofile(\"../data/cam1_resized.mp4\")"
   ]
  },
  {
   "cell_type": "code",
   "execution_count": null,
   "id": "80178061-1af3-4470-a22f-438c6342bb80",
   "metadata": {
    "scrolled": true,
    "tags": []
   },
   "outputs": [],
   "source": [
    "clip = mp.VideoFileClip(\"../data/cam1.20230911T145010337317.avi\")\n",
    "clip = clip.subclip(0, 300)\n",
    "\n",
    "clip.write_videofile(\"../data/cam1_converted.mp4\")"
   ]
  },
  {
   "cell_type": "code",
   "execution_count": null,
   "id": "0c85c550-e653-4fe2-8e69-9297c032b062",
   "metadata": {},
   "outputs": [],
   "source": []
  }
 ],
 "metadata": {
  "kernelspec": {
   "display_name": "Python 3 (ipykernel)",
   "language": "python",
   "name": "python3"
  },
  "language_info": {
   "codemirror_mode": {
    "name": "ipython",
    "version": 3
   },
   "file_extension": ".py",
   "mimetype": "text/x-python",
   "name": "python",
   "nbconvert_exporter": "python",
   "pygments_lexer": "ipython3",
   "version": "3.10.12"
  }
 },
 "nbformat": 4,
 "nbformat_minor": 5
}
