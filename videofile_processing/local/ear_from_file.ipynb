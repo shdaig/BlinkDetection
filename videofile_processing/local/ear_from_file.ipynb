{
 "cells": [
  {
   "cell_type": "code",
   "execution_count": 35,
   "id": "a6f2ad18-9d09-4461-8db4-91e8210612c4",
   "metadata": {},
   "outputs": [],
   "source": [
    "import warnings\n",
    "warnings.filterwarnings(\"ignore\")"
   ]
  },
  {
   "cell_type": "code",
   "execution_count": 36,
   "id": "5a530d6c-598d-4382-b5f1-208901b538b5",
   "metadata": {},
   "outputs": [],
   "source": [
    "import cv2\n",
    "import numpy as np\n",
    "\n",
    "import matplotlib.pyplot as plt\n",
    "from scipy.spatial import distance as dist\n",
    "\n",
    "import mediapipe as mp\n",
    "from mediapipe.tasks import python\n",
    "from mediapipe.tasks.python import vision\n",
    "\n",
    "import time"
   ]
  },
  {
   "cell_type": "code",
   "execution_count": 37,
   "id": "aea45242-ba1b-407f-a3de-8a1d178a2fcf",
   "metadata": {},
   "outputs": [],
   "source": [
    "video_file = cv2.VideoCapture('../data/cam1_resized.mp4') "
   ]
  },
  {
   "cell_type": "code",
   "execution_count": 38,
   "id": "dd966f40-7146-4cb9-9791-b9b440757f6e",
   "metadata": {},
   "outputs": [],
   "source": [
    "def calculate_ear(eye):\n",
    "    y1 = dist.euclidean(eye[2], eye[3])\n",
    "    y2 = dist.euclidean(eye[4], eye[5])\n",
    "\n",
    "    x1 = dist.euclidean(eye[0], eye[1])\n",
    "\n",
    "    ear = (y1 + y2) / x1\n",
    "\n",
    "    return ear"
   ]
  },
  {
   "cell_type": "code",
   "execution_count": 39,
   "id": "b763f9a0-d9bd-4691-8521-bd0e90eb4f48",
   "metadata": {},
   "outputs": [],
   "source": [
    "def landmark_detection(img, detector):\n",
    "    mp_image = mp.Image(image_format=mp.ImageFormat.SRGB, data=img)\n",
    "\n",
    "    detection_result = detector.detect(mp_image)\n",
    "\n",
    "    face_landmarks_list = detection_result.face_landmarks\n",
    "    annotated_image = np.copy(mp_image.numpy_view())\n",
    "\n",
    "    left_ear = 0\n",
    "    right_ear = 0\n",
    "    \n",
    "    \n",
    "    # print(len(face_landmarks_list))\n",
    "    \n",
    "    for idx in range(len(face_landmarks_list)):\n",
    "    \n",
    "        face_landmarks = face_landmarks_list[idx]\n",
    "\n",
    "        left_eye = []\n",
    "        right_eye = []\n",
    "        for i in [33, 133, 159, 145, 158, 153]:\n",
    "            left_eye.append((int(face_landmarks[i].x * annotated_image.shape[1]),\n",
    "                             int(face_landmarks[i].y * annotated_image.shape[0])))\n",
    "\n",
    "        for i in [263, 362, 385, 380, 386, 374]:\n",
    "            right_eye.append((int(face_landmarks[i].x * annotated_image.shape[1]),\n",
    "                             int(face_landmarks[i].y * annotated_image.shape[0])))\n",
    "\n",
    "        for point in left_eye:\n",
    "            cv2.circle(annotated_image,\n",
    "                       (point[0], point[1]),\n",
    "                       radius=2,\n",
    "                       color=(0, 0, 255),\n",
    "                       thickness=-1)\n",
    "\n",
    "        for point in right_eye:\n",
    "            cv2.circle(annotated_image,\n",
    "                       (point[0], point[1]),\n",
    "                       radius=2,\n",
    "                       color=(0, 0, 255),\n",
    "                       thickness=-1)\n",
    "\n",
    "        left_ear = calculate_ear(left_eye)\n",
    "        right_ear = calculate_ear(right_eye)\n",
    "\n",
    "    return annotated_image, left_ear, right_ear"
   ]
  },
  {
   "cell_type": "code",
   "execution_count": 40,
   "id": "c8f84d9a-276c-4d35-9d5f-a6f16672ade4",
   "metadata": {},
   "outputs": [
    {
     "name": "stderr",
     "output_type": "stream",
     "text": [
      "W0000 00:00:1697715766.135891   82500 face_landmarker_graph.cc:169] Sets FaceBlendshapesGraph acceleration to xnnpack by default.\n"
     ]
    }
   ],
   "source": [
    "base_options = python.BaseOptions(model_asset_path='../models/face_landmarker.task')\n",
    "options = vision.FaceLandmarkerOptions(base_options=base_options,\n",
    "                                       output_face_blendshapes=True,\n",
    "                                       output_facial_transformation_matrixes=True,\n",
    "                                       num_faces=1)\n",
    "\n",
    "detector = vision.FaceLandmarker.create_from_options(options)\n",
    "\n",
    "color_green = (0, 255, 0)\n",
    "line_width = 3"
   ]
  },
  {
   "cell_type": "code",
   "execution_count": 41,
   "id": "ab37c9f8-75bf-4871-9456-bee6f89382fe",
   "metadata": {},
   "outputs": [],
   "source": [
    "ear_list = []\n",
    "\n",
    "while True:\n",
    "    read, frame = video_file.read()\n",
    "    \n",
    "    if not read:\n",
    "        break\n",
    "    \n",
    "    rgb_frame = cv2.cvtColor(frame, cv2.COLOR_BGR2RGB)\n",
    "    \n",
    "    img, left_ear, right_ear = landmark_detection(rgb_frame, detector)\n",
    "    \n",
    "#     plt.imshow(img)\n",
    "#     plt.show()\n",
    "    \n",
    "#     time.sleep(1)\n",
    "    \n",
    "    ear_list.append((left_ear + right_ear) / 2)\n",
    "\n",
    "ear_list = np.array(ear_list)"
   ]
  },
  {
   "cell_type": "code",
   "execution_count": 42,
   "id": "27634b37-02b1-4385-8239-d839f1cec4e0",
   "metadata": {},
   "outputs": [
    {
     "data": {
      "text/plain": [
       "[<matplotlib.lines.Line2D at 0x7f500bc830a0>]"
      ]
     },
     "execution_count": 42,
     "metadata": {},
     "output_type": "execute_result"
    },
    {
     "data": {
      "image/png": "[encoded data removed]",
      "text/plain": [
       "<Figure size 640x480 with 1 Axes>"
      ]
     },
     "metadata": {},
     "output_type": "display_data"
    }
   ],
   "source": [
    "plt.plot(ear_list, color='b')"
   ]
  },
  {
   "cell_type": "code",
   "execution_count": null,
   "id": "1609e132-8211-4aa2-b3f3-c6bca9687cfb",
   "metadata": {},
   "outputs": [],
   "source": []
  }
 ],
 "metadata": {
  "kernelspec": {
   "display_name": "Python 3 (ipykernel)",
   "language": "python",
   "name": "python3"
  },
  "language_info": {
   "codemirror_mode": {
    "name": "ipython",
    "version": 3
   },
   "file_extension": ".py",
   "mimetype": "text/x-python",
   "name": "python",
   "nbconvert_exporter": "python",
   "pygments_lexer": "ipython3",
   "version": "3.10.12"
  }
 },
 "nbformat": 4,
 "nbformat_minor": 5
}
